{
 "cells": [
  {
   "cell_type": "markdown",
   "id": "595a747a",
   "metadata": {
    "slideshow": {
     "slide_type": "slide"
    }
   },
   "source": [
    "# RISE test\n",
    "\n",
    "This notebook tests the capabilities of \n",
    "- ipyvizzu\n",
    "- ipyvizzu-story\n",
    "\n",
    "right on the spot!"
   ]
  },
  {
   "cell_type": "markdown",
   "id": "3b557175",
   "metadata": {
    "slideshow": {
     "slide_type": "slide"
    }
   },
   "source": [
    "## 1. IPYVIZZU"
   ]
  },
  {
   "cell_type": "code",
   "execution_count": 5,
   "id": "6d0edccf",
   "metadata": {
    "slideshow": {
     "slide_type": "skip"
    }
   },
   "outputs": [
    {
     "data": {
      "application/javascript": [
       "class IpyVizzu {\n",
       "  static version = \"0.16.0\";\n",
       "  static analytics = undefined;\n",
       "  static inhibitScroll = false;\n",
       "\n",
       "  constructor() {\n",
       "    document.addEventListener(\n",
       "      \"wheel\",\n",
       "      (evt) => {\n",
       "        IpyVizzu.inhibitScroll = true;\n",
       "      },\n",
       "      true,\n",
       "    );\n",
       "    document.addEventListener(\n",
       "      \"keydown\",\n",
       "      (evt) => {\n",
       "        IpyVizzu.inhibitScroll = true;\n",
       "      },\n",
       "      true,\n",
       "    );\n",
       "    document.addEventListener(\n",
       "      \"touchstart\",\n",
       "      (evt) => {\n",
       "        IpyVizzu.inhibitScroll = true;\n",
       "      },\n",
       "      true,\n",
       "    );\n",
       "\n",
       "    this.elements = {};\n",
       "    this.charts = {};\n",
       "    this.controls = {};\n",
       "\n",
       "    this.storage = {};\n",
       "    this.displays = {};\n",
       "\n",
       "    this.events = {};\n",
       "    this.loaded = {};\n",
       "    this.libs = {};\n",
       "  }\n",
       "\n",
       "  static clearInhibitScroll(element) {\n",
       "    IpyVizzu.inhibitScroll = false;\n",
       "  }\n",
       "\n",
       "  createChart(element, chartId, vizzulib, divWidth, divHeight) {\n",
       "    this.elements[chartId] = document.createElement(\"div\");\n",
       "    this.elements[\n",
       "      chartId\n",
       "    ].style.cssText = `width: ${divWidth}; height: ${divHeight};`;\n",
       "    this.loaded[chartId] = import(vizzulib);\n",
       "    this.charts[chartId] = this.loaded[chartId].then((Vizzu) => {\n",
       "      this.libs[chartId] = Vizzu.default;\n",
       "      const VizzuConstructor = Vizzu.default;\n",
       "      return new VizzuConstructor(this.elements[chartId]).initializing;\n",
       "    });\n",
       "    this._moveHere(chartId, element);\n",
       "  }\n",
       "\n",
       "  animate(\n",
       "    element,\n",
       "    chartId,\n",
       "    animId,\n",
       "    displayTarget,\n",
       "    scrollEnabled,\n",
       "    getChartTarget,\n",
       "    chartAnimOpts,\n",
       "  ) {\n",
       "    if (displayTarget === \"end\") this._moveHere(chartId, element);\n",
       "    this.controls[chartId] = this.charts[chartId];\n",
       "    this.charts[chartId] = this.charts[chartId].then((chart) => {\n",
       "      if (displayTarget === \"actual\") this._moveHere(chartId, element);\n",
       "      this._scroll(chartId, scrollEnabled);\n",
       "      let chartTarget = getChartTarget(this.libs[chartId]);\n",
       "      if (typeof chartTarget === \"string\") {\n",
       "        chartTarget = this.storage[chartTarget];\n",
       "      } else if (Array.isArray(chartTarget)) {\n",
       "        for (let i = 0; i < chartTarget.length; i++) {\n",
       "          const target = chartTarget[i].target;\n",
       "          if (typeof target === \"string\") {\n",
       "            chartTarget[i].target = this.storage[target];\n",
       "          }\n",
       "        }\n",
       "      }\n",
       "      chart = chart.animate(chartTarget, chartAnimOpts);\n",
       "      this.controls[animId] = chart;\n",
       "      return chart;\n",
       "    });\n",
       "  }\n",
       "\n",
       "  store(element, chartId, id) {\n",
       "    this.charts[chartId] = this.charts[chartId].then((chart) => {\n",
       "      this.storage[id] = chart.store();\n",
       "      return chart;\n",
       "    });\n",
       "  }\n",
       "\n",
       "  feature(element, chartId, name, enabled) {\n",
       "    this.charts[chartId] = this.charts[chartId].then((chart) => {\n",
       "      chart.feature(name, enabled);\n",
       "      return chart;\n",
       "    });\n",
       "  }\n",
       "\n",
       "  setEvent(element, chartId, id, event, handler) {\n",
       "    this.charts[chartId] = this.charts[chartId].then((chart) => {\n",
       "      this.events[id] = handler;\n",
       "      chart.on(event, this.events[id]);\n",
       "      return chart;\n",
       "    });\n",
       "  }\n",
       "\n",
       "  clearEvent(element, chartId, id, event) {\n",
       "    this.charts[chartId] = this.charts[chartId].then((chart) => {\n",
       "      chart.off(event, this.events[id]);\n",
       "      return chart;\n",
       "    });\n",
       "  }\n",
       "\n",
       "  log(element, chartId, chartProperty) {\n",
       "    this.charts[chartId] = this.charts[chartId].then((chart) => {\n",
       "      console.log(chart[chartProperty]);\n",
       "      return chart;\n",
       "    });\n",
       "  }\n",
       "\n",
       "  control(element, method, prevId, lastId, ...params) {\n",
       "    this.controls[prevId].then(() => {\n",
       "      this.controls[lastId].activated.then((control) => {\n",
       "        if (method === \"seek\") {\n",
       "          const value = params[0];\n",
       "          control[method](value);\n",
       "          return;\n",
       "        }\n",
       "        if (method === \"store\") {\n",
       "          const id = params[0];\n",
       "          this.storage[id] = control[method]();\n",
       "          return;\n",
       "        }\n",
       "        control[method]();\n",
       "      });\n",
       "    });\n",
       "  }\n",
       "\n",
       "  _moveHere(chartId, element) {\n",
       "    element.append(this.elements[chartId]);\n",
       "  }\n",
       "\n",
       "  _scroll(chartId, enabled) {\n",
       "    if (!IpyVizzu.inhibitScroll && enabled) {\n",
       "      this.elements[chartId].scrollIntoView({\n",
       "        behavior: \"auto\",\n",
       "        block: \"center\",\n",
       "      });\n",
       "    }\n",
       "  }\n",
       "\n",
       "  static _hide(element) {\n",
       "    document.getElementById(\n",
       "      element.selector.substring(1),\n",
       "    ).parentNode.style.display = \"none\";\n",
       "  }\n",
       "\n",
       "  static _display(prevElement, element) {\n",
       "    if (prevElement.parentNode) {\n",
       "      prevElement.parentNode.style.display = \"none\";\n",
       "    }\n",
       "    document.getElementById(\n",
       "      element.selector.substring(1),\n",
       "    ).parentNode.style.display = \"flex\";\n",
       "    document.getElementById(\n",
       "      element.selector.substring(1),\n",
       "    ).parentNode.style.margin = \"auto\";\n",
       "  }\n",
       "\n",
       "  static changeAnalyticsTo(analytics) {\n",
       "    if (IpyVizzu.analytics !== analytics) {\n",
       "      console.log(\"ipyvizzu gather usage stats:\", analytics);\n",
       "      IpyVizzu.analytics = analytics;\n",
       "    }\n",
       "    if (analytics) {\n",
       "      IpyVizzu._addHeadScript();\n",
       "    } else {\n",
       "      IpyVizzu._removeScript(\"ipyvizzu-analytics-head\");\n",
       "    }\n",
       "  }\n",
       "\n",
       "  static _addHeadScript() {\n",
       "    const scriptId = \"ipyvizzu-analytics-head\";\n",
       "    if (!IpyVizzu._isScriptAppended(scriptId)) {\n",
       "      const script = document.createElement(\"script\");\n",
       "      script.defer = true;\n",
       "      script.src = \"https://plausible.io/js/script.local.js\";\n",
       "      script.dataset.domain = \"usage.ipyvizzu.com\";\n",
       "      script.id = scriptId;\n",
       "      document.getElementsByTagName(\"head\")[0].appendChild(script);\n",
       "    }\n",
       "  }\n",
       "\n",
       "  static _isScriptAppended(id) {\n",
       "    return document.querySelector(`script[id=\"${id}\"]`) !== null;\n",
       "  }\n",
       "\n",
       "  static _removeScript(id) {\n",
       "    const script = document.getElementById(id);\n",
       "    if (script) script.remove();\n",
       "  }\n",
       "}\n",
       "\n",
       "if (IpyVizzu.version !== window.IpyVizzu?.version) {\n",
       "  window.IpyVizzu = IpyVizzu;\n",
       "  console.log(`ipyvizzu ${IpyVizzu.version}`);\n",
       "  window.ipyvizzu = new window.IpyVizzu();\n",
       "}\n"
      ]
     },
     "metadata": {},
     "output_type": "display_data"
    },
    {
     "data": {
      "application/javascript": [
       "if (window.IpyVizzu) window.IpyVizzu.changeAnalyticsTo(true);"
      ]
     },
     "metadata": {},
     "output_type": "display_data"
    },
    {
     "data": {
      "application/javascript": [
       "window.ipyvizzu.createChart(element, 'f0892c3', 'https://cdn.jsdelivr.net/npm/vizzu@0.8/dist/vizzu.min.js', '800px', '480px');"
      ]
     },
     "metadata": {},
     "output_type": "display_data"
    },
    {
     "data": {
      "application/javascript": [
       "window.ipyvizzu.animate(element, 'f0892c3', '8590874', 'actual', false, lib => { return {\"data\": {\"series\": [{\"name\": \"Genres\", \"values\": [\"Pop\", \"Rock\", \"Jazz\", \"Metal\", \"Pop\", \"Rock\", \"Jazz\", \"Metal\", \"Pop\", \"Rock\", \"Jazz\", \"Metal\"], \"type\": \"dimension\"}, {\"name\": \"Kinds\", \"values\": [\"Hard\", \"Hard\", \"Hard\", \"Hard\", \"Smooth\", \"Experimental\", \"Smooth\", \"Smooth\", \"Experimental\", \"Experimental\", \"Experimental\", \"Experimental\"], \"type\": \"dimension\"}, {\"name\": \"Popularity\", \"values\": [114.0, 96.0, 78.0, 52.0, 56.0, 36.0, 174.0, 121.0, 127.0, 83.0, 94.0, 58.0], \"type\": \"measure\"}]}} }, undefined);"
      ]
     },
     "metadata": {},
     "output_type": "display_data"
    },
    {
     "data": {
      "application/javascript": [
       "window.ipyvizzu.animate(element, 'f0892c3', '09917e6', 'actual', false, lib => { return {\"config\": {\"title\": \"Default aggregation: sum\", \"channels\": {\"x\": {\"set\": [\"Genres\"]}, \"y\": {\"set\": [\"Popularity\"]}}}} }, undefined);"
      ]
     },
     "metadata": {},
     "output_type": "display_data"
    },
    {
     "data": {
      "application/javascript": [
       "window.ipyvizzu.animate(element, 'f0892c3', 'd2ef215', 'actual', false, lib => { return {\"config\": {\"title\": \"min\", \"channels\": {\"y\": {\"set\": [\"min(Popularity)\"]}}}} }, undefined);"
      ]
     },
     "metadata": {},
     "output_type": "display_data"
    },
    {
     "data": {
      "application/javascript": [
       "window.ipyvizzu.animate(element, 'f0892c3', '8d0ba85', 'actual', false, lib => { return {\"config\": {\"title\": \"mean\", \"channels\": {\"y\": {\"set\": [\"mean(Popularity)\"]}}}} }, undefined);"
      ]
     },
     "metadata": {},
     "output_type": "display_data"
    },
    {
     "data": {
      "application/javascript": [
       "window.ipyvizzu.animate(element, 'f0892c3', 'f072139', 'actual', false, lib => { return {\"config\": {\"title\": \"max\", \"channels\": {\"y\": {\"set\": [\"max(Popularity)\"]}}}} }, undefined);"
      ]
     },
     "metadata": {},
     "output_type": "display_data"
    },
    {
     "data": {
      "application/javascript": [
       "window.ipyvizzu.animate(element, 'f0892c3', '4093114', 'actual', false, lib => { return {\"config\": {\"title\": \"count\", \"channels\": {\"y\": {\"set\": [\"count()\"]}}}} }, undefined);"
      ]
     },
     "metadata": {},
     "output_type": "display_data"
    },
    {
     "data": {
      "application/javascript": [
       "window.ipyvizzu.animate(element, 'f0892c3', '3957369', 'actual', false, lib => { return {\"config\": {\"title\": \"distinct\", \"channels\": {\"y\": {\"set\": [\"distinct(Kinds)\"]}}}} }, undefined);"
      ]
     },
     "metadata": {},
     "output_type": "display_data"
    },
    {
     "data": {
      "application/javascript": [
       "window.ipyvizzu.animate(element, 'f0892c3', '71e5059', 'actual', false, lib => { return {\"config\": {\"title\": \"sum (back to initial default state)\", \"channels\": {\"y\": {\"set\": [\"sum(Popularity)\"]}}}} }, undefined);"
      ]
     },
     "metadata": {},
     "output_type": "display_data"
    }
   ],
   "source": [
    "# Create the plot\n",
    "import pandas as pd\n",
    "from ipyvizzu import Chart, ChartProperty, Data, Config, DisplayTarget\n",
    "\n",
    "# Read the csv from online source\n",
    "df = pd.read_csv(\"https://ipyvizzu.vizzuhq.com/0.16/assets/data/music_data.csv\")\n",
    "\n",
    "# Create the data element and add the dataframe\n",
    "data = Data()\n",
    "data.add_df(df)\n",
    "\n",
    "# Create the chart and add the data\n",
    "chart = Chart()\n",
    "chart.animate(data)\n",
    "\n",
    "# Add the initial configuration\n",
    "chart.animate(\n",
    "    Config(\n",
    "        {\n",
    "            \"title\": \"Default aggregation: sum\",\n",
    "            #\"duration\": 1,\n",
    "            \"channels\": {\n",
    "                \"x\": {\"set\": [\"Genres\"]},\n",
    "                \"y\": {\"set\": [\"Popularity\"]},\n",
    "            }\n",
    "        }\n",
    "    )\n",
    ")\n",
    "chart.animate(\n",
    "    Config({\n",
    "        \"title\": \"min\",\n",
    "        \"channels\": {\n",
    "            \"y\": {\n",
    "                \"set\": [\"min(Popularity)\"]\n",
    "            }\n",
    "        }\n",
    "    })\n",
    ")\n",
    "chart.animate(\n",
    "    Config({\n",
    "        \"title\": \"mean\",\n",
    "        \"channels\": {\n",
    "            \"y\": {\n",
    "                \"set\": [\"mean(Popularity)\"]\n",
    "            }\n",
    "        }\n",
    "    })\n",
    ")\n",
    "chart.animate(\n",
    "    Config({\n",
    "        \"title\": \"max\",\n",
    "        \"channels\": {\n",
    "            \"y\": {\n",
    "                \"set\": [\"max(Popularity)\"]\n",
    "            }\n",
    "        }\n",
    "    })\n",
    ")\n",
    "chart.animate(\n",
    "    Config({\n",
    "        \"title\": \"count\",\n",
    "        \"channels\": {\n",
    "            \"y\": {\n",
    "                \"set\": [\"count()\"] # Will count the available values for 'x'\n",
    "            }\n",
    "        }\n",
    "    })\n",
    ")\n",
    "chart.animate(\n",
    "    Config({\n",
    "        \"title\": \"distinct\",\n",
    "        \"channels\": {\n",
    "            \"y\": {\n",
    "                \"set\": [\"distinct(Kinds)\"] # Will count the distinct values of a dimension - not a value\n",
    "            }\n",
    "        }\n",
    "    })\n",
    ")\n",
    "chart.animate(\n",
    "    Config({\n",
    "        \"title\": \"sum (back to initial default state)\",\n",
    "        \"channels\": {\n",
    "            \"y\": {\n",
    "                \"set\": [\"sum(Popularity)\"]\n",
    "            }\n",
    "        }\n",
    "    })\n",
    ")"
   ]
  },
  {
   "cell_type": "code",
   "execution_count": 4,
   "id": "973393ab",
   "metadata": {
    "slideshow": {
     "slide_type": "slide"
    }
   },
   "outputs": [
    {
     "ename": "AssertionError",
     "evalue": "cannot be used after chart displayed",
     "output_type": "error",
     "traceback": [
      "\u001b[0;31m---------------------------------------------------------------------------\u001b[0m",
      "\u001b[0;31mAssertionError\u001b[0m                            Traceback (most recent call last)",
      "Cell \u001b[0;32mIn[4], line 1\u001b[0m\n\u001b[0;32m----> 1\u001b[0m \u001b[43mchart\u001b[49m\u001b[38;5;241;43m.\u001b[39;49m\u001b[43mshow\u001b[49m\u001b[43m(\u001b[49m\u001b[43m)\u001b[49m\n",
      "File \u001b[0;32m~/.pyenv/versions/3.11.1/lib/python3.11/site-packages/ipyvizzu/chart.py:354\u001b[0m, in \u001b[0;36mChart.show\u001b[0;34m(self)\u001b[0m\n\u001b[1;32m    342\u001b[0m \u001b[38;5;250m\u001b[39m\u001b[38;5;124;03m\"\"\"\u001b[39;00m\n\u001b[1;32m    343\u001b[0m \u001b[38;5;124;03mA method for displaying the assembled JavaScript code.\u001b[39;00m\n\u001b[1;32m    344\u001b[0m \n\u001b[0;32m   (...)\u001b[0m\n\u001b[1;32m    348\u001b[0m \u001b[38;5;124;03m    AssertionError: If chart already has been displayed.\u001b[39;00m\n\u001b[1;32m    349\u001b[0m \u001b[38;5;124;03m\"\"\"\u001b[39;00m\n\u001b[1;32m    351\u001b[0m \u001b[38;5;28;01massert\u001b[39;00m (\n\u001b[1;32m    352\u001b[0m     \u001b[38;5;28mself\u001b[39m\u001b[38;5;241m.\u001b[39m_display_target \u001b[38;5;241m==\u001b[39m DisplayTarget\u001b[38;5;241m.\u001b[39mMANUAL\n\u001b[1;32m    353\u001b[0m ), \u001b[38;5;124m\"\u001b[39m\u001b[38;5;124mchart.show() can be used with display=DisplayTarget.MANUAL only\u001b[39m\u001b[38;5;124m\"\u001b[39m\n\u001b[0;32m--> 354\u001b[0m \u001b[38;5;28;01massert\u001b[39;00m \u001b[38;5;129;01mnot\u001b[39;00m \u001b[38;5;28mself\u001b[39m\u001b[38;5;241m.\u001b[39m_showed, \u001b[38;5;124m\"\u001b[39m\u001b[38;5;124mcannot be used after chart displayed\u001b[39m\u001b[38;5;124m\"\u001b[39m\n\u001b[1;32m    355\u001b[0m display_javascript(\n\u001b[1;32m    356\u001b[0m     \u001b[38;5;124m\"\u001b[39m\u001b[38;5;130;01m\\n\u001b[39;00m\u001b[38;5;124m\"\u001b[39m\u001b[38;5;241m.\u001b[39mjoin(\u001b[38;5;28mself\u001b[39m\u001b[38;5;241m.\u001b[39m_calls),\n\u001b[1;32m    357\u001b[0m     raw\u001b[38;5;241m=\u001b[39m\u001b[38;5;28;01mTrue\u001b[39;00m,\n\u001b[1;32m    358\u001b[0m )\n\u001b[1;32m    359\u001b[0m \u001b[38;5;28mself\u001b[39m\u001b[38;5;241m.\u001b[39m_showed \u001b[38;5;241m=\u001b[39m \u001b[38;5;28;01mTrue\u001b[39;00m\n",
      "\u001b[0;31mAssertionError\u001b[0m: cannot be used after chart displayed"
     ]
    }
   ],
   "source": [
    "chart.show()"
   ]
  },
  {
   "cell_type": "markdown",
   "id": "32d3fe8e",
   "metadata": {
    "slideshow": {
     "slide_type": "slide"
    }
   },
   "source": [
    "- It cannot be \"replayed\" :C\n",
    "- If executed, have to reload all the code!"
   ]
  },
  {
   "cell_type": "markdown",
   "id": "e4784164",
   "metadata": {
    "slideshow": {
     "slide_type": "slide"
    }
   },
   "source": [
    "## 2. IPYVIZZU-STORY"
   ]
  },
  {
   "cell_type": "code",
   "execution_count": 2,
   "id": "012ed099",
   "metadata": {
    "slideshow": {
     "slide_type": "skip"
    }
   },
   "outputs": [],
   "source": [
    "from ipyvizzu import Data, Config\n",
    "from ipyvizzustory import Story, Slide, Step\n",
    "\n",
    "data = Data()\n",
    "data.add_series(\"Foo\", [\"Alice\", \"Bob\", \"Ted\"])\n",
    "data.add_series(\"Bar\", [15, 32, 12])\n",
    "data.add_series(\"Baz\", [5, 3, 2])\n",
    "\n",
    "story = Story(data=data)\n",
    "\n",
    "slide1 = Slide(\n",
    "    Step(\n",
    "        Config({\"x\": \"Foo\", \"y\": \"Bar\"}),\n",
    "    )\n",
    ")\n",
    "story.add_slide(slide1)\n",
    "\n",
    "slide2 = Slide(\n",
    "    Step(\n",
    "        Config({\"color\": \"Foo\", \"x\": \"Baz\", \"geometry\": \"circle\"}),\n",
    "    )\n",
    ")\n",
    "story.add_slide(slide2)"
   ]
  },
  {
   "cell_type": "code",
   "execution_count": 6,
   "id": "ad16fd22",
   "metadata": {
    "slideshow": {
     "slide_type": "slide"
    }
   },
   "outputs": [
    {
     "data": {
      "application/javascript": [
       "if (window.IpyVizzu) { window.IpyVizzu.clearInhibitScroll(element); }"
      ]
     },
     "metadata": {},
     "output_type": "display_data"
    },
    {
     "data": {
      "text/html": [
       "\n",
       "<div>\n",
       "    <vizzu-player id=\"abc8f6f\"   controller></vizzu-player>\n",
       "    <script type=\"module\">\n",
       "        import VizzuPlayer from \"https://cdn.jsdelivr.net/npm/vizzu-story@0.4/dist/vizzu-story.min.js\";\n",
       "\n",
       "        const vp = document.getElementById(\"abc8f6f\");\n",
       "        import(vp.vizzuUrl).then(vizzuLoaded => {\n",
       "            const lib = vizzuLoaded.default;\n",
       "            const vizzuPlayerData = {\"data\": {\"series\": [{\"name\": \"Foo\", \"values\": [\"Alice\", \"Bob\", \"Ted\"]}, {\"name\": \"Bar\", \"values\": [15, 32, 12]}, {\"name\": \"Baz\", \"values\": [5, 3, 2]}]}, \"slides\": [[{\"config\": {\"x\": \"Foo\", \"y\": \"Bar\"}}], [{\"config\": {\"color\": \"Foo\", \"x\": \"Baz\", \"geometry\": \"circle\"}}]]};\n",
       "            // story.set_size()\n",
       "            \n",
       "            vp.slides = vizzuPlayerData;\n",
       "            vp.initializing.then(chart => {\n",
       "                // story.set_feature()\n",
       "                \n",
       "                // story.add_event()\n",
       "                \n",
       "            });\n",
       "        });\n",
       "    </script>\n",
       "</div>\n"
      ],
      "text/plain": [
       "<IPython.core.display.HTML object>"
      ]
     },
     "metadata": {},
     "output_type": "display_data"
    }
   ],
   "source": [
    "story.play()"
   ]
  },
  {
   "cell_type": "markdown",
   "id": "deaef6bb",
   "metadata": {
    "slideshow": {
     "slide_type": "slide"
    }
   },
   "source": [
    "- Works perfectly! C:\n",
    "- Can be used in RISE"
   ]
  },
  {
   "cell_type": "markdown",
   "id": "ceb94376",
   "metadata": {
    "slideshow": {
     "slide_type": "slide"
    }
   },
   "source": [
    "## IT WORKS!"
   ]
  }
 ],
 "metadata": {
  "celltoolbar": "Slideshow",
  "kernelspec": {
   "display_name": "Python 3 (ipykernel)",
   "language": "python",
   "name": "python3"
  },
  "language_info": {
   "codemirror_mode": {
    "name": "ipython",
    "version": 3
   },
   "file_extension": ".py",
   "mimetype": "text/x-python",
   "name": "python",
   "nbconvert_exporter": "python",
   "pygments_lexer": "ipython3",
   "version": "3.11.1"
  }
 },
 "nbformat": 4,
 "nbformat_minor": 5
}
