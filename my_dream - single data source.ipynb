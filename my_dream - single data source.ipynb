{
 "cells": [
  {
   "cell_type": "markdown",
   "metadata": {
    "id": "nPOxebd8wBBQ"
   },
   "source": [
    "# I have a dream..."
   ]
  },
  {
   "cell_type": "markdown",
   "metadata": {
    "id": "5OlT5mwp4L89"
   },
   "source": [
    "## 1. Setup\n",
    "If not already installed, install the libraries"
   ]
  },
  {
   "cell_type": "code",
   "execution_count": null,
   "metadata": {
    "colab": {
     "base_uri": "https://localhost:8080/"
    },
    "id": "0HOtsnv8v8sR",
    "outputId": "e96906e6-097f-4aef-860b-71f89ae20bc1"
   },
   "outputs": [],
   "source": [
    "#!pip install vizzu pandas"
   ]
  },
  {
   "cell_type": "markdown",
   "metadata": {
    "id": "y0bS8Xs9xrjc"
   },
   "source": [
    "## How to use it"
   ]
  },
  {
   "cell_type": "code",
   "execution_count": null,
   "metadata": {
    "id": "H26Gx7Q6w1_Y"
   },
   "outputs": [],
   "source": [
    "# ADD THE LIBRARY\n",
    "import pandas as pd\n",
    "from vizzu import Chart, Slide\n",
    "from ipyvizzu import Data"
   ]
  },
  {
   "cell_type": "code",
   "execution_count": null,
   "metadata": {},
   "outputs": [],
   "source": [
    "## LOAD AND EXPLORE SOME DATA\n",
    "# Read the excel file\n",
    "df = pd.read_excel(\"data/CheeseSales.xlsx\", sheet_name=\"sales\")\n",
    "# See what's inside\n",
    "df"
   ]
  },
  {
   "cell_type": "code",
   "execution_count": null,
   "metadata": {},
   "outputs": [],
   "source": [
    "## ADD INITIAL DATA TO THE CHART\n",
    "vc_data = Data()\n",
    "vc_data.add_df(df)"
   ]
  },
  {
   "cell_type": "code",
   "execution_count": null,
   "metadata": {
    "id": "H26Gx7Q6w1_Y"
   },
   "outputs": [],
   "source": [
    "# CREATE THE CHART\n",
    "# There is no need to specify the width and height right now. We could specify it later, when needed!\n",
    "vc = Chart()\n",
    "# Create the chart and add the data\n",
    "vc.set_data(vc_data) # A separate method, to be consistent with add_record(s)"
   ]
  },
  {
   "cell_type": "code",
   "execution_count": null,
   "metadata": {
    "colab": {
     "base_uri": "https://localhost:8080/",
     "height": 497
    },
    "id": "lplnlumWxxmz",
    "outputId": "f369f544-146c-409b-84a2-7b6df2b13a0a"
   },
   "outputs": [],
   "source": [
    "# ADD CONTENT\n",
    "# Slide #1\n",
    "slide = Slide(title=\"title 1\", channels={\"x\":\"Date\", \"y\":\"Weight\", \"label\":\"Weight\", \"color\":\"Date\"})\n",
    "vc.add_slide(slide)"
   ]
  },
  {
   "cell_type": "code",
   "execution_count": null,
   "metadata": {},
   "outputs": [],
   "source": [
    "## SEE HOW IT'S COMING ALONG\n",
    "vc.show()"
   ]
  },
  {
   "cell_type": "code",
   "execution_count": null,
   "metadata": {
    "colab": {
     "base_uri": "https://localhost:8080/",
     "height": 497
    },
    "id": "lplnlumWxxmz",
    "outputId": "f369f544-146c-409b-84a2-7b6df2b13a0a"
   },
   "outputs": [],
   "source": [
    "# ADD MORE CONTENT\n",
    "# Add a new record\n",
    "# Should alert if not all the columns are met\n",
    "#vc.add_record({\"Day\":\"2023-09-04\", \"Time\":\"08:00\", \"Type\":\"Mantecoso\", \"Weight\":0.5, \"Price\":4.0}) \n",
    "# Slide #2\n",
    "slide = Slide(title=\"title 2\", channels={\"x\":\"Date\", \"y\":\"Price\", \"label\":\"Price\", \"color\":\"Date\"})\n",
    "vc.add_slide(slide)\n",
    "# Slide #3\n",
    "slide = Slide(title=\"title 3\", channels={\"x\":\"Time\", \"y\":\"Price\", \"label\":\"Price\", \"color\":\"Time\"})\n",
    "vc.add_slide(slide)"
   ]
  },
  {
   "cell_type": "code",
   "execution_count": null,
   "metadata": {},
   "outputs": [],
   "source": [
    "## SEE HOW IT'S COMING ALONG\n",
    "# The chart size is defined on rendering, not when it's defined as an object\n",
    "vc.show(width=\"800px\")"
   ]
  },
  {
   "cell_type": "code",
   "execution_count": null,
   "metadata": {},
   "outputs": [],
   "source": [
    "## LOOK IN DETAIL WITH THE CONTROLS (STORYMODE)\n",
    "vc.interact()"
   ]
  },
  {
   "cell_type": "code",
   "execution_count": null,
   "metadata": {},
   "outputs": [],
   "source": [
    "## EXPORT OPTIONS\n",
    "vc_html = vc.to_html() # Returns a string with all the html\n",
    "print(vc_html[ :200]) # Print the first chars, just to take a look"
   ]
  },
  {
   "cell_type": "code",
   "execution_count": null,
   "metadata": {},
   "outputs": [],
   "source": [
    "# EXPORT - SAVE HTML TO A FILE\n",
    "vc.to_html(\"my_animation_file.html\", width=\"800px\", height=\"600px\")"
   ]
  },
  {
   "cell_type": "code",
   "execution_count": null,
   "metadata": {},
   "outputs": [],
   "source": [
    "# Was the file written?\n",
    "! ls *.html"
   ]
  },
  {
   "cell_type": "code",
   "execution_count": null,
   "metadata": {},
   "outputs": [],
   "source": [
    "# EXPORT - SAVE AS GIF\n",
    "vc.to_gif(\"my_video.gif\", width=\"800px\", height=\"600px\")"
   ]
  },
  {
   "cell_type": "code",
   "execution_count": null,
   "metadata": {},
   "outputs": [],
   "source": [
    "# EXPORT - SAVE AS MP4\n",
    "vc.to_mp4(\"my_video.mp4\", width=\"800px\", height=\"600px\")"
   ]
  },
  {
   "cell_type": "code",
   "execution_count": null,
   "metadata": {},
   "outputs": [],
   "source": []
  }
 ],
 "metadata": {
  "colab": {
   "provenance": []
  },
  "kernelspec": {
   "display_name": "Python 3 (ipykernel)",
   "language": "python",
   "name": "python3"
  },
  "language_info": {
   "codemirror_mode": {
    "name": "ipython",
    "version": 3
   },
   "file_extension": ".py",
   "mimetype": "text/x-python",
   "name": "python",
   "nbconvert_exporter": "python",
   "pygments_lexer": "ipython3",
   "version": "3.11.1"
  }
 },
 "nbformat": 4,
 "nbformat_minor": 1
}
